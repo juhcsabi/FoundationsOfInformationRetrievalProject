{
 "cells": [
  {
   "cell_type": "code",
   "execution_count": 1,
   "metadata": {},
   "outputs": [],
   "source": [
    "%load_ext autoreload\n",
    "%autoreload 2"
   ]
  },
  {
   "cell_type": "code",
   "execution_count": 10,
   "metadata": {},
   "outputs": [
    {
     "name": "stdout",
     "output_type": "stream",
     "text": [
      "done\n"
     ]
    }
   ],
   "source": [
    "from queries import start_elastic_search, index_documents\n",
    "from trec_files import make_trec_run\n",
    "from trec_files import read_eval_files\n",
    "from evaluation import trec_eval\n",
    "from evaluation import mean_average_precision\n",
    "from evaluation import print_trec_eval\n",
    "import elasticsearch\n",
    "import elasticsearch.helpers\n",
    "import json\n",
    "from elasticsearch import Elasticsearch\n",
    "import nltk\n",
    "from nltk.tokenize import word_tokenize\n",
    "from nltk.corpus import stopwords\n",
    "from nltk.stem import PorterStemmer\n",
    "from elasticsearch_dsl import Q\n",
    "from elasticsearch_dsl import Search\n",
    "\n",
    "print(\"done\")"
   ]
  },
  {
   "cell_type": "code",
   "execution_count": 3,
   "metadata": {},
   "outputs": [
    {
     "name": "stderr",
     "output_type": "stream",
     "text": [
      "/home/ut-student/.local/lib/python3.8/site-packages/elasticsearch/connection/base.py:200: ElasticsearchWarning: Elasticsearch built-in security features are not enabled. Without authentication, your cluster could be accessible to anyone. See https://www.elastic.co/guide/en/elasticsearch/reference/7.17/security-minimal-setup.html to enable security.\n",
      "  warnings.warn(message, category=ElasticsearchWarning)\n"
     ]
    },
    {
     "data": {
      "text/plain": [
       "(263080, [])"
      ]
     },
     "execution_count": 3,
     "metadata": {},
     "output_type": "execute_result"
    }
   ],
   "source": [
    "# Connect to the ElasticSearch server\n",
    "es = elasticsearch.Elasticsearch(host='localhost')  # in case you use Docker, the host is 'elasticsearch'\n",
    "\n",
    "# Index the collection into the index called 'genomics'\n",
    "body = {} # no indexing options (leave default)\n",
    "index_documents(es, 'data01/FIR-s05-medline.json', 'genomics-base', body)"
   ]
  },
  {
   "cell_type": "code",
   "execution_count": 39,
   "metadata": {},
   "outputs": [
    {
     "name": "stdout",
     "output_type": "stream",
     "text": [
      "\"cyclin-dependent kinase inhibitor 1A (p21, Cip1)\" in Homo sapiens \n",
      "\n",
      "\n",
      "[('tumor', 3), ('effects', 2), ('deficiency', 2), ('role', 2), ('mice', 2), ('Differential', 1), ('mammary', 1), ('kinase', 1), ('inhibitor', 1), ('key', 1), ('mediator', 1), ('growth', 1), ('arrest', 1), ('However', 1), ('cell', 1), ('cycle', 1), ('regulation', 1), ('complex', 1), ('also', 1), ('promote', 1), ('activity', 1), ('certain', 1), ('experimental', 1), ('potential', 1), ('suppression', 1), ('knockout', 1), ('differential', 1), ('incidence', 1), ('age', 1), ('onset', 1), ('proliferation', 1), ('presence', 1), ('two', 1)] \n",
      "\n",
      "[('nuclear', 10), ('accumulation', 5), ('export', 4), ('inhibition', 3), ('via', 2), ('evidence', 2), ('inhibit', 2), ('ability', 2), ('direct', 1), ('increasing', 1), ('requisite', 1), ('positive', 1), ('assembly', 1), ('Kip', 1), ('promote', 1), ('underlying', 1), ('mechanism', 1), ('provide', 1), ('demonstrate', 1), ('glycogen', 1), ('kinase', 1), ('Furthermore', 1), ('find', 1), ('null', 1), ('bind', 1), ('thereby', 1), ('association', 1)] \n",
      "\n",
      "[('response', 3), ('cell', 3), ('inhibitor', 2), ('outcome', 2), ('damage', 2), ('death', 2), ('effect', 2), ('transcriptional', 2), ('activation', 2), ('PUMA', 2), ('choice', 2), ('transcription', 2), ('suppression', 1), ('suppressor', 1), ('either', 1), ('cycle', 1), ('arrest', 1), ('kinase', 1), ('whereas', 1), ('ref', 1), ('clear', 1), ('show', 1), ('factor', 1), ('principal', 1), ('determinant', 1), ('directly', 1), ('promoter', 1), ('protein', 1), ('interaction', 1), ('induction', 1), ('result', 1), ('colon', 1), ('cancer', 1), ('modify', 1), ('ability', 1), ('bind', 1), ('selectively', 1), ('bound', 1), ('expression', 1), ('initiation', 1), ('thereby', 1)] \n",
      "\n",
      "[('cell', 6), ('G', 6), ('cycle', 5), ('arrest', 5), ('expression', 4), ('growth', 3), ('factor', 3), ('receptor', 3), ('support', 3), ('neurite', 3), ('outgrowth', 3), ('deficit', 2), ('nerve', 2), ('fail', 2), ('phase', 2), ('marker', 2), ('Collectively', 2), ('data', 2), ('adapter', 1), ('novel', 1), ('mutant', 1), ('increase', 1), ('inhibitor', 1), ('two', 1), ('important', 1), ('transition', 1), ('nuclear', 1), ('antigen', 1), ('Moreover', 1), ('kinase', 1), ('phosphorylation', 1), ('retinoblastoma', 1), ('protein', 1), ('essential', 1), ('comparison', 1), ('indicate', 1), ('Interestingly', 1), ('ectopic', 1), ('fibroblast', 1), ('suggest', 1), ('model', 1), ('activation', 1), ('mechanism', 1), ('likely', 1), ('induction', 1)] \n",
      "\n",
      "[('growth', 3), ('inhibitor', 2), ('permanent', 2), ('arrest', 2), ('senescence', 2), ('Inhibition', 1), ('accumulation', 1), ('rescue', 1), ('kinase', 1), ('initially', 1), ('gene', 1), ('induced', 1), ('senescent', 1), ('shown', 1), ('cause', 1), ('Reactive', 1), ('oxygen', 1), ('species', 1), ('oxidative', 1), ('also', 1), ('induce', 1), ('irreversible', 1), ('similar', 1), ('show', 1), ('intracellular', 1), ('normal', 1), ('cancer', 1), ('showing', 1), ('elevation', 1), ('necessary', 1), ('induction', 1), ('phenotype', 1)] \n",
      "\n",
      "[('activation', 6), ('increase', 5), ('protein', 5), ('growth', 4), ('arrest', 3), ('expression', 3), ('kinase', 3), ('inhibition', 2), ('acetylcholine', 2), ('involvement', 2), ('G', 2), ('response', 2), ('show', 2), ('synthesis', 2), ('decrease', 2), ('Growth', 1), ('receptor', 1), ('evidence', 1), ('assessed', 1), ('ovary', 1), ('CHO', 1), ('expressed', 1), ('divergent', 1), ('whereas', 1), ('dramatic', 1), ('phase', 1), ('analysis', 1), ('inhibitor', 1), ('fragment', 1), ('association', 1), ('activity', 1), ('accumulation', 1), ('retinoblastoma', 1), ('due', 1), ('least', 1), ('part', 1), ('phosphorylation', 1), ('provide', 1), ('mechanism', 1), ('account', 1), ('transcriptional', 1), ('regulation', 1), ('Evaluation', 1), ('extracellular', 1), ('shown', 1), ('striking', 1), ('potential', 1), ('mediating', 1)] \n",
      "\n",
      "[('protein', 4), ('Mirk', 4), ('turnover', 3), ('stable', 3), ('mechanism', 2), ('inhibitor', 2), ('enhanced', 2), ('expression', 2), ('Rapid', 1), ('found', 1), ('kinase', 1), ('transcriptional', 1), ('activator', 1), ('growth', 1), ('colon', 1), ('carcinoma', 1), ('unknown', 1), ('report', 1), ('G', 1), ('vector', 1), ('control', 1), ('mutant', 1), ('lower', 1), ('Lower', 1), ('also', 1), ('alter', 1), ('activity', 1), ('promoter', 1), ('construct', 1), ('decrease', 1), ('due', 1), ('data', 1), ('consistent', 1), ('mirk', 1), ('component', 1), ('common', 1), ('proteolysis', 1)] \n",
      "\n",
      "[('Delta', 5), ('ER', 5), ('activation', 5), ('cell', 5), ('cycle', 4), ('arrest', 4), ('inhibition', 3), ('phase', 2), ('kinase', 2), ('activity', 2), ('mitosis', 2), ('associated', 2), ('many', 1), ('role', 1), ('MAP', 1), ('transition', 1), ('much', 1), ('less', 1), ('known', 1), ('function', 1), ('Stimulation', 1), ('conditional', 1), ('mutant', 1), ('asynchronous', 1), ('hamster', 1), ('rat', 1), ('strong', 1), ('endogenous', 1), ('weak', 1), ('Activation', 1), ('proliferation', 1), ('combination', 1), ('initial', 1), ('onset', 1), ('synchronized', 1), ('pronounced', 1), ('Analysis', 1), ('mitotic', 1), ('enter', 1), ('arresting', 1), ('late', 1), ('absolutely', 1), ('require', 1), ('since', 1), ('transcriptionally', 1), ('silenced', 1), ('due', 1), ('promoter', 1), ('methylation', 1), ('Rather', 1), ('expression', 1), ('Finally', 1), ('application', 1), ('inhibitor', 1), ('partially', 1), ('B', 1), ('proceed', 1), ('next', 1), ('suggesting', 1), ('pathway', 1), ('promote', 1)] \n",
      "\n",
      "[('localization', 4), ('kinase', 3), ('demonstrate', 3), ('cytoplasmic', 3), ('wild', 3), ('type', 3), ('cell', 2), ('inhibitor', 2), ('differentiation', 2), ('acid', 2), ('phosphorylation', 2), ('sequence', 2), ('assay', 2), ('Phosphorylation', 1), ('cycle', 1), ('involved', 1), ('proliferation', 1), ('survival', 1), ('lymphoid', 1), ('myeloid', 1), ('study', 1), ('found', 1), ('amino', 1), ('end', 1), ('constitute', 1), ('ideal', 1), ('consensus', 1), ('efficiently', 1), ('peptide', 1), ('well', 1), ('protein', 1), ('also', 1), ('expression', 1), ('increase', 1), ('increasing', 1), ('nucleus', 1), ('cytoplasm', 1), ('remains', 1), ('primarily', 1), ('dead', 1), ('nuclear', 1), ('Consistent', 1), ('human', 1), ('event', 1)] \n",
      "\n",
      "[('cell', 5), ('growth', 4), ('lung', 3), ('kinase', 3), ('PI', 3), ('synthesis', 2), ('reversed', 2), ('receptor', 2), ('activation', 2), ('inhibitory', 2), ('downstream', 2), ('chronic', 2), ('h', 2), ('exposure', 2), ('sustained', 2), ('phosphorylation', 2), ('cancer', 1), ('potent', 1), ('many', 1), ('normal', 1), ('neoplastic', 1), ('However', 1), ('study', 1), ('show', 1), ('greater', 1), ('significantly', 1), ('proliferation', 1), ('human', 1), ('adenocarcinoma', 1), ('line', 1), ('Inhibition', 1), ('completely', 1), ('antibody', 1), ('involved', 1), ('effect', 1), ('Attenuation', 1), ('protein', 1), ('respectively', 1), ('partially', 1), ('inhibition', 1), ('Acute', 1), ('min', 1), ('B', 1), ('whereas', 1), ('response', 1), ('increase', 1), ('inhibitor', 1), ('also', 1), ('treatment', 1), ('Collectively', 1), ('data', 1), ('suggest', 1), ('possibly', 1), ('via', 1), ('pathway', 1), ('induction', 1)] \n",
      "\n",
      "[('cell', 2), ('activity', 2), ('nuclear', 2), ('cytoplasm', 2), ('Cytoplasmic', 1), ('neurite', 1), ('cycle', 1), ('inhibitory', 1), ('binding', 1), ('antigen', 1), ('show', 1), ('induced', 1), ('course', 1), ('differentiation', 1), ('chick', 1), ('retinal', 1), ('precursor', 1), ('Ectopic', 1), ('expression', 1), ('localization', 1), ('signal', 1), ('formation', 1), ('actin', 1), ('characteristic', 1), ('inactivation', 1), ('Rho', 1), ('complex', 1), ('Neurite', 1), ('outgrowth', 1), ('branching', 1), ('hippocampal', 1), ('expressed', 1), ('abundantly', 1), ('suggest', 1), ('cytoplasmic', 1), ('may', 1), ('contribute', 1), ('developmental', 1), ('process', 1), ('extend', 1), ('target', 1)] \n",
      "\n",
      "[('arrest', 7), ('cellular', 4), ('function', 3), ('activity', 3), ('via', 2), ('response', 2), ('Ras', 2), ('presence', 2), ('absence', 2), ('context', 2), ('inhibition', 2), ('nuclear', 2), ('accumulation', 2), ('localization', 2), ('upon', 1), ('genetic', 1), ('activation', 1), ('pathway', 1), ('human', 1), ('primary', 1), ('growth', 1), ('various', 1), ('conditional', 1), ('molecule', 1), ('investigate', 1), ('effects', 1), ('without', 1), ('synthesis', 1), ('Activation', 1), ('led', 1), ('provide', 1), ('evidence', 1), ('effect', 1), ('regulator', 1), ('Loss', 1), ('important', 1), ('event', 1), ('associated', 1), ('since', 1), ('maintenance', 1), ('necessary', 1), ('sufficient', 1), ('bypass', 1), ('agreement', 1), ('expression', 1), ('sustained', 1), ('reduced', 1), ('resulting', 1), ('association', 1), ('Taken', 1), ('together', 1), ('data', 1), ('suggest', 1), ('antagonism', 1), ('proper', 1), ('propose', 1), ('proliferative', 1), ('novel', 1), ('mechanism', 1)] \n",
      "\n",
      "[('differentiation', 5), ('growth', 4), ('protein', 4), ('primary', 3), ('effects', 3), ('expression', 3), ('arrest', 2), ('without', 2), ('mouse', 2), ('epidermal', 2), ('cell', 2), ('specific', 2), ('kinase', 2), ('ability', 2), ('h', 2), ('exposure', 2), ('activity', 2), ('cAMP', 1), ('type', 1), ('metabolite', 1), ('thought', 1), ('regulate', 1), ('incorporation', 1), ('manner', 1), ('apparent', 1), ('completely', 1), ('reversible', 1), ('determine', 1), ('induce', 1), ('measured', 1), ('early', 1), ('later', 1), ('respectively', 1), ('Interestingly', 1), ('effect', 1), ('uptake', 1), ('compound', 1), ('increase', 1), ('inhibitor', 1), ('demonstrate', 1), ('system', 1), ('possibly', 1), ('elevation', 1)] \n",
      "\n",
      "[('protein', 8), ('regulation', 3), ('degradation', 3), ('via', 2), ('cell', 2), ('phosphorylation', 2), ('stimulation', 2), ('Glycogen', 1), ('pathway', 1), ('crucial', 1), ('endothelial', 1), ('proliferation', 1), ('survival', 1), ('repair', 1), ('high', 1), ('rate', 1), ('reduced', 1), ('abundance', 1), ('human', 1), ('umbilical', 1), ('vein', 1), ('However', 1), ('mutation', 1), ('site', 1), ('aspartate', 1), ('increase', 1), ('therefore', 1), ('whether', 1), ('kinase', 1), ('downstream', 1), ('various', 1), ('glycogen', 1), ('Upon', 1), ('serum', 1), ('revealed', 1), ('specifically', 1), ('within', 1), ('binding', 1), ('domain', 1), ('whereas', 1), ('specific', 1), ('inhibition', 1), ('lithium', 1), ('chloride', 1), ('cardiac', 1), ('p', 1), ('data', 1), ('indicate', 1), ('contrast', 1), ('inhibitory', 1)] \n",
      "\n",
      "[('kinase', 8), ('protein', 6), ('colon', 3), ('inhibitor', 3), ('extracellular', 2), ('cancer', 2), ('involved', 2), ('present', 2), ('study', 2), ('cell', 2), ('Involvement', 1), ('C', 1), ('family', 1), ('regulation', 1), ('However', 1), ('specific', 1), ('process', 1), ('clear', 1), ('found', 1), ('treatment', 1), ('cultured', 1), ('human', 1), ('line', 1), ('agonist', 1), ('arrest', 1), ('G', 1), ('phase', 1), ('decrease', 1), ('number', 1), ('translocation', 1), ('Pretreatment', 1), ('Based', 1), ('b', 1), ('pretreatment', 1), ('blocked', 1), ('c', 1), ('transient', 1), ('dominant', 1), ('negative', 1), ('significantly', 1), ('suppressed', 1), ('induction', 1), ('conclude', 1)] \n",
      "\n",
      "[('G', 3), ('deficiency', 3), ('survival', 2), ('Loss', 1), ('murine', 1), ('kinase', 1), ('induced', 1), ('response', 1), ('stimuli', 1), ('block', 1), ('progression', 1), ('inhibition', 1), ('Although', 1), ('pathway', 1), ('often', 1), ('relative', 1), ('contribution', 1), ('still', 1), ('unclear', 1), ('transcription', 1), ('factor', 1), ('important', 1), ('regulator', 1), ('transition', 1), ('expression', 1), ('frequently', 1), ('Previous', 1), ('crucial', 1), ('target', 1), ('study', 1), ('mice', 1), ('Importantly', 1), ('deficient', 1), ('frequency', 1), ('activation', 1), ('also', 1), ('shown', 1), ('collaborate', 1), ('lymphoma', 1), ('Thus', 1), ('capacity', 1), ('promote', 1), ('tumor', 1), ('growth', 1), ('fully', 1), ('even', 1), ('enhanced', 1), ('upon', 1), ('loss', 1), ('show', 1), ('independently', 1), ('stimulate', 1), ('activity', 1), ('augment', 1), ('fraction', 1), ('phase', 1), ('support', 1), ('distinct', 1)] \n",
      "\n",
      "[('growth', 7), ('breast', 7), ('cancer', 7), ('effects', 4), ('factor', 3), ('human', 3), ('increase', 3), ('exogenous', 3), ('basic', 2), ('fibroblast', 2), ('decrease', 2), ('found', 2), ('endogenous', 2), ('Role', 1), ('transforming', 1), ('beta', 1), ('inhibition', 1), ('laboratory', 1), ('revealed', 1), ('selectively', 1), ('proliferation', 1), ('also', 1), ('shown', 1), ('enhance', 1), ('gene', 1), ('product', 1), ('protein', 1), ('kinase', 1), ('inhibitor', 1), ('Transforming', 1), ('cell', 1), ('regulator', 1), ('inhibitory', 1), ('effect', 1), ('aim', 1), ('present', 1), ('study', 1), ('evaluate', 1), ('possible', 1), ('role', 1), ('well', 1), ('expression', 1), ('enhanced', 1), ('secretion', 1), ('culture', 1), ('medium', 1), ('However', 1), ('addition', 1), ('neither', 1), ('led', 1), ('induced', 1), ('reverse', 1), ('arrest', 1), ('level', 1), ('contrast', 1), ('induction', 1), ('data', 1), ('suggest', 1), ('mimic', 1), ('provide', 1), ('important', 1), ('basis', 1), ('control', 1)] \n",
      "\n",
      "[('phosphorylation', 5), ('treatment', 4), ('expression', 4), ('activity', 4), ('arrest', 3), ('human', 3), ('hepatoma', 3), ('kinase', 3), ('mitotic', 2), ('within', 2), ('cell', 2), ('addition', 2), ('increase', 2), ('protein', 2), ('affect', 2), ('L', 2), ('activation', 2), ('may', 2), ('Effector', 1), ('form', 1), ('cantharidin', 1), ('use', 1), ('routine', 1), ('anticancer', 1), ('drug', 1), ('However', 1), ('limited', 1), ('information', 1), ('effect', 1), ('cancer', 1), ('present', 1), ('study', 1), ('proliferation', 1), ('enhanced', 1), ('increasing', 1), ('induced', 1), ('histone', 1), ('approximately', 1), ('reduction', 1), ('level', 1), ('Treatment', 1), ('significantly', 1), ('Moreover', 1), ('also', 1), ('Bad', 1), ('inhibit', 1), ('binding', 1), ('since', 1), ('less', 1), ('preceding', 1), ('fragmentation', 1), ('morphologic', 1), ('Pretreatment', 1), ('inhibitor', 1), ('markedly', 1), ('death', 1), ('suggest', 1), ('biphasic', 1), ('regulation', 1), ('contribute', 1), ('Furthermore', 1), ('molecular', 1), ('mechanism', 1)] \n",
      "\n",
      "[('cell', 8), ('cycle', 8), ('arrest', 8), ('H', 7), ('transient', 6), ('expression', 5), ('G', 4), ('associated', 3), ('E', 3), ('mouse', 2), ('induced', 2), ('sublethal', 2), ('phases', 2), ('least', 2), ('partially', 2), ('function', 2), ('activity', 2), ('defend', 1), ('potential', 1), ('damages', 1), ('reactive', 1), ('oxygen', 1), ('species', 1), ('enter', 1), ('found', 1), ('phase', 1), ('Western', 1), ('blot', 1), ('analysis', 1), ('also', 1), ('demonstrate', 1), ('induction', 1), ('transcriptional', 1), ('level', 1), ('occur', 1), ('absence', 1), ('kinase', 1), ('response', 1), ('treatment', 1), ('repression', 1), ('whereas', 1), ('accumulation', 1), ('responsible', 1), ('inhibition', 1), ('data', 1), ('could', 1), ('account', 1), ('following', 1), ('stimulation', 1), ('Deletion', 1), ('restoration', 1), ('alone', 1), ('insufficient', 1), ('effectively', 1), ('overcome', 1), ('contrast', 1), ('human', 1), ('K', 1), ('mimic', 1), ('enough', 1), ('override', 1), ('basis', 1), ('propose', 1), ('model', 1), ('moderate', 1), ('induce', 1)] \n",
      "\n",
      "[('activity', 7), ('sequestration', 4), ('inhibitor', 4), ('activation', 4), ('expression', 3), ('protein', 3), ('treatment', 3), ('kinase', 2), ('h', 2), ('associated', 2), ('G', 2), ('phase', 2), ('Removal', 1), ('breast', 1), ('cancer', 1), ('fungal', 1), ('estrogen', 1), ('induced', 1), ('transiently', 1), ('within', 1), ('total', 1), ('elevated', 1), ('beyond', 1), ('newly', 1), ('formed', 1), ('virtual', 1), ('elimination', 1), ('inhibition', 1), ('relieved', 1), ('addition', 1), ('Thus', 1), ('inhibitory', 1), ('association', 1), ('concomitant', 1), ('disruption', 1), ('aldehyde', 1), ('relatively', 1), ('ineffective', 1), ('initial', 1), ('yet', 1), ('effective', 1), ('later', 1), ('arrest', 1), ('reversible', 1), ('upon', 1), ('component', 1), ('complex', 1), ('degradation', 1), ('suggest', 1), ('play', 1), ('major', 1), ('induction', 1), ('entry', 1)] \n",
      "\n",
      "[('core', 11), ('protein', 8), ('expression', 4), ('cell', 3), ('control', 3), ('hepatitis', 2), ('C', 2), ('virus', 2), ('possibility', 2), ('suggesting', 2), ('degradation', 2), ('significantly', 2), ('partially', 2), ('kinase', 2), ('Inhibition', 1), ('interaction', 1), ('cycle', 1), ('regulator', 1), ('cultured', 1), ('Although', 1), ('clearly', 1), ('much', 1), ('Northern', 1), ('blot', 1), ('analysis', 1), ('nearly', 1), ('level', 1), ('differ', 1), ('stability', 1), ('affected', 1), ('necessarily', 1), ('exclude', 1), ('synthesis', 1), ('maturation', 1), ('nuclear', 1), ('transport', 1), ('newly', 1), ('improperly', 1), ('decrease', 1), ('accumulation', 1), ('inhibitor', 1), ('assay', 1), ('revealed', 1), ('inhibition', 1), ('activity', 1), ('Taken', 1), ('together', 1), ('present', 1), ('suggest', 1), ('function', 1)] \n",
      "\n",
      "[('lung', 4), ('proliferation', 4), ('recovery', 3), ('inflammation', 3), ('Normal', 2), ('kinase', 2), ('inhibitor', 2), ('exposed', 2), ('elevated', 2), ('room', 2), ('air', 2), ('endothelial', 2), ('type', 2), ('epithelial', 2), ('abnormal', 2), ('repair', 2), ('observation', 2), ('also', 2), ('may', 2), ('expression', 2), ('injured', 1), ('inspired', 1), ('oxygen', 1), ('tissue', 1), ('architecture', 1), ('pulmonary', 1), ('function', 1), ('proliferate', 1), ('Although', 1), ('excessive', 1), ('fibroblast', 1), ('occur', 1), ('regulate', 1), ('remain', 1), ('unknown', 1), ('recent', 1), ('induction', 1), ('participate', 1), ('hypothesis', 1), ('tested', 1), ('mice', 1), ('day', 1), ('unexposed', 1), ('contrast', 1), ('higher', 1), ('sustained', 1), ('resulting', 1), ('hyperplasia', 1), ('monocytic', 1), ('strand', 1), ('hyperplastic', 1), ('suggesting', 1), ('integrity', 1), ('assessed', 1), ('reveal', 1), ('suggest', 1), ('failure', 1), ('limit', 1), ('replication', 1), ('lead', 1), ('cell', 1), ('death', 1), ('important', 1), ('therapeutic', 1), ('designed', 1), ('attenuate', 1), ('chronic', 1), ('disease', 1), ('oxidant', 1), ('injury', 1)] \n",
      "\n",
      "[('hepatitis', 5), ('chronic', 5), ('liver', 4), ('expression', 3), ('C', 2), ('cirrhosis', 2), ('LI', 2), ('High', 1), ('correlated', 1), ('human', 1), ('carcinoma', 1), ('protein', 1), ('universal', 1), ('inhibitor', 1), ('regulated', 1), ('transcriptionally', 1), ('stress', 1), ('receive', 1), ('several', 1), ('Therefore', 1), ('virus', 1), ('possible', 1), ('involvement', 1), ('analysis', 1), ('index', 1), ('calculated', 1), ('ratio', 1), ('positive', 1), ('total', 1), ('numerous', 1), ('intense', 1), ('inflammation', 1), ('spotty', 1), ('necrosis', 1), ('close', 1), ('fibrosis', 1), ('according', 1), ('grading', 1), ('staging', 1), ('significantly', 1), ('higher', 1)] \n",
      "\n",
      "[('expression', 7), ('wound', 5), ('day', 5), ('E', 3), ('healing', 3), ('tissue', 3), ('positive', 2), ('negative', 2), ('cell', 2), ('cycle', 2), ('granulation', 2), ('proliferation', 2), ('injury', 2), ('peak', 2), ('expressed', 2), ('Expression', 1), ('detect', 1), ('Open', 1), ('wounds', 1), ('skin', 1), ('diameter', 1), ('rat', 1), ('used', 1), ('model', 1), ('Wound', 1), ('days', 1), ('assay', 1), ('Western', 1), ('blot', 1), ('Cell', 1), ('took', 1), ('place', 1), ('predominantly', 1), ('within', 1), ('first', 1), ('week', 1), ('dramatic', 1), ('found', 1), ('Constitutive', 1), ('throughout', 1), ('low', 1), ('period', 1), ('stage', 1), ('inverse', 1), ('gradient', 1), ('CONCLUSION', 1), ('play', 1), ('role', 1), ('tendency', 1), ('repair', 1)] \n",
      "\n",
      "[('induction', 5), ('inhibition', 2), ('kinase', 2), ('cancer', 2), ('proliferation', 2), ('growth', 2), ('arrest', 2), ('zinc', 2), ('Differential', 1), ('modulation', 1), ('extra', 1), ('cellular', 1), ('signal', 1), ('regulated', 1), ('pathway', 1), ('involved', 1), ('depending', 1), ('intensity', 1), ('duration', 1), ('stimuli', 1), ('study', 1), ('differential', 1), ('regulation', 1), ('activation', 1), ('However', 1), ('inhibitor', 1), ('induced', 1), ('whereas', 1), ('addition', 1), ('expression', 1), ('completely', 1), ('incorporation', 1), ('nucleus', 1), ('important', 1), ('indicator', 1), ('suggest', 1), ('presence', 1), ('regulatory', 1), ('mechanism', 1), ('cell', 1)] \n",
      "\n",
      "[('cell', 3), ('arrest', 3), ('rat', 2), ('embryo', 2), ('cycle', 2), ('type', 2), ('kinase', 2), ('prevent', 1), ('Introduction', 1), ('early', 1), ('region', 1), ('human', 1), ('ability', 1), ('mammalian', 1), ('damage', 1), ('revealed', 1), ('due', 1), ('selective', 1), ('inhibition', 1), ('activity', 1), ('unchanged', 1), ('inhibitor', 1), ('target', 1), ('normal', 1), ('irradiation', 1), ('shown', 1), ('formed', 1), ('possibly', 1), ('functional', 1), ('inactivation', 1), ('Kinase', 1), ('modification', 1), ('assumed', 1), ('play', 1), ('key', 1), ('role', 1), ('regulation', 1)] \n",
      "\n",
      "[('cell', 7), ('protein', 5), ('phosphorylation', 3), ('stability', 3), ('regulator', 3), ('survival', 3), ('cycle', 2), ('assembly', 2), ('Furthermore', 2), ('Ser', 2), ('enhanced', 2), ('critical', 1), ('synthesis', 1), ('nuclear', 1), ('antigen', 1), ('Recently', 1), ('also', 1), ('shown', 1), ('positive', 1), ('progression', 1), ('necessary', 1), ('activation', 1), ('elevated', 1), ('various', 1), ('aggressive', 1), ('well', 1), ('linked', 1), ('chemoresistance', 1), ('demonstrate', 1), ('directly', 1), ('kinase', 1), ('many', 1), ('late', 1), ('stage', 1), ('Two', 1), ('carboxyl', 1), ('terminus', 1), ('Phosphorylation', 1), ('binding', 1), ('whereas', 1), ('significantly', 1), ('show', 1), ('resistant', 1), ('toxicity', 1), ('Finally', 1), ('modulation', 1), ('data', 1), ('imply', 1), ('due', 1), ('part', 1), ('suggest', 1), ('one', 1), ('mechanism', 1), ('regulation', 1), ('tumor', 1), ('proliferation', 1), ('stabilize', 1)] \n",
      "\n",
      "[('tumor', 6), ('effects', 4), ('cancer', 4), ('treatment', 4), ('cell', 3), ('mice', 3), ('protein', 3), ('induced', 3), ('human', 2), ('agent', 2), ('cycle', 2), ('arrest', 2), ('study', 2), ('combined', 2), ('times', 2), ('per', 2), ('week', 2), ('significantly', 2), ('staining', 2), ('analysis', 2), ('growth', 2), ('expression', 2), ('therapy', 1), ('nude', 1), ('previous', 1), ('oral', 1), ('phase', 1), ('first', 1), ('therapeutic', 1), ('efficacy', 1), ('treating', 1), ('athymic', 1), ('bearing', 1), ('gross', 1), ('toxicity', 1), ('microscopic', 1), ('view', 1), ('terminal', 1), ('observation', 1), ('fragmentation', 1), ('regulatory', 1), ('determined', 1), ('Western', 1), ('blot', 1), ('Treatment', 1), ('elevation', 1), ('well', 1), ('inhibition', 1), ('kinase', 1), ('clarify', 1), ('involved', 1), ('G', 1), ('specific', 1), ('used', 1), ('phenomena', 1), ('induction', 1), ('cytochrome', 1), ('C', 1), ('mitochondria', 1), ('pretreatment', 1), ('indicate', 1), ('indeed', 1), ('play', 1), ('critical', 1), ('role', 1), ('revealed', 1), ('molecular', 1), ('mechanism', 1), ('regression', 1), ('great', 1), ('variety', 1), ('make', 1), ('attractive', 1), ('chemotherapy', 1)] \n",
      "\n",
      "[('alpha', 8), ('ER', 6), ('activity', 5), ('transcriptional', 4), ('activation', 3), ('expression', 3), ('receptor', 2), ('inhibition', 2), ('mechanism', 2), ('modulation', 2), ('function', 2), ('Transcriptional', 1), ('interaction', 1), ('stoichiometric', 1), ('inhibitor', 1), ('Transient', 1), ('dominant', 1), ('negative', 1), ('mutant', 1), ('also', 1), ('enhanced', 1), ('underlying', 1), ('cell', 1), ('cycle', 1), ('arrest', 1), ('agreement', 1), ('conclusion', 1), ('domain', 1), ('involved', 1), ('binding', 1), ('indispensable', 1), ('addition', 1), ('show', 1), ('block', 1), ('turn', 1), ('HAT', 1), ('manner', 1), ('suggest', 1), ('novel', 1), ('enhancer', 1)] \n",
      "\n",
      "[('neural', 6), ('stem', 6), ('expression', 5), ('differentiation', 4), ('human', 2), ('develop', 2), ('proliferation', 2), ('network', 2), ('transcription', 2), ('Blocking', 1), ('variety', 1), ('neuronal', 1), ('glial', 1), ('cell', 1), ('highly', 1), ('process', 1), ('Notch', 1), ('pathway', 1), ('system', 1), ('transcriptional', 1), ('play', 1), ('key', 1), ('role', 1), ('control', 1), ('initiation', 1), ('neurite', 1), ('outgrowth', 1), ('fate', 1), ('show', 1), ('factor', 1), ('blocking', 1), ('kinase', 1), ('inhibitor', 1), ('Furthermore', 1), ('demonstrate', 1), ('suppression', 1), ('majority', 1), ('phenotype', 1), ('underscore', 1), ('importance', 1), ('particular', 1), ('phenotypic', 1), ('development', 1)] \n",
      "\n",
      "[('human', 6), ('hepatoma', 6), ('retinoid', 4), ('promoter', 4), ('inhibition', 3), ('effects', 3), ('protein', 3), ('kinase', 3), ('activity', 3), ('associated', 2), ('novel', 2), ('prevent', 2), ('study', 2), ('found', 2), ('cell', 2), ('decrease', 2), ('acid', 2), ('markedly', 2), ('Growth', 1), ('acyclic', 1), ('induction', 1), ('expression', 1), ('synthetic', 1), ('recurrence', 1), ('surgical', 1), ('resection', 1), ('primary', 1), ('molecular', 1), ('known', 1), ('growth', 1), ('three', 1), ('arrest', 1), ('cycle', 1), ('G', 1), ('cellular', 1), ('form', 1), ('retinoblastoma', 1), ('significant', 1), ('seen', 1), ('glycogen', 1), ('also', 1), ('level', 1), ('inhibitor', 1), ('contrast', 1), ('protective', 1), ('effect', 1), ('transient', 1), ('reporter', 1), ('transcription', 1), ('previously', 1), ('colon', 1), ('carcinoma', 1), ('factor', 1), ('pathway', 1), ('Nevertheless', 1), ('even', 1), ('presence', 1), ('excess', 1), ('transcriptional', 1), ('first', 1), ('systematic', 1), ('inhibitory', 1), ('compound', 1), ('tumor', 1), ('provide', 1), ('evidence', 1), ('may', 1), ('valuable', 1), ('agent', 1), ('therapy', 1), ('possibly', 1)] \n",
      "\n",
      "[('protein', 3), ('nitric', 3), ('cytochrome', 3), ('c', 3), ('RAW', 2), ('cell', 2), ('accumulation', 2), ('inhibitor', 1), ('shown', 1), ('protect', 1), ('toxicity', 1), ('gain', 1), ('mechanistic', 1), ('stably', 1), ('mouse', 1), ('human', 1), ('gene', 1), ('critical', 1), ('progression', 1), ('towards', 1), ('demise', 1), ('Incubation', 1), ('control', 1), ('induced', 1), ('suppressor', 1), ('expression', 1), ('fragment', 1), ('G', 1), ('arrest', 1), ('However', 1), ('translocation', 1), ('activation', 1), ('markedly', 1), ('reduced', 1), ('addition', 1), ('nuclear', 1), ('morphology', 1), ('determined', 1), ('staining', 1), ('appearance', 1), ('phase', 1), ('conclude', 1), ('release', 1), ('mitochondria', 1), ('thereby', 1), ('leaves', 1), ('interference', 1), ('cycle', 1), ('intact', 1)] \n",
      "\n",
      "[('inhibition', 3), ('esophageal', 3), ('carcinoma', 2), ('growth', 2), ('cancer', 2), ('cell', 2), ('expression', 2), ('arrest', 2), ('Growth', 1), ('squamous', 1), ('human', 1), ('effects', 1), ('use', 1), ('Marked', 1), ('effect', 1), ('acid', 1), ('synthesis', 1), ('associated', 1), ('progression', 1), ('induced', 1), ('could', 1), ('correlated', 1), ('level', 1), ('kinase', 1), ('inhibitor', 1), ('Moreover', 1), ('treatment', 1), ('alpha', 1), ('immunity', 1), ('suggest', 1), ('adjuvant', 1), ('therapeutic', 1)] \n",
      "\n",
      "[('ethanol', 8), ('expression', 4), ('cell', 4), ('activity', 3), ('cycle', 3), ('effect', 3), ('regulatory', 2), ('rat', 2), ('aortic', 2), ('smooth', 2), ('muscle', 2), ('G', 2), ('analysis', 2), ('phase', 2), ('may', 2), ('Ethanol', 1), ('differentially', 1), ('aim', 1), ('study', 1), ('determine', 1), ('phases', 1), ('cultured', 1), ('vascular', 1), ('Flow', 1), ('content', 1), ('following', 1), ('treatment', 1), ('population', 1), ('concomitant', 1), ('decrease', 1), ('control', 1), ('respectively', 1), ('Western', 1), ('blot', 1), ('retinoblastoma', 1), ('protein', 1), ('approximately', 1), ('assessed', 1), ('histone', 1), ('phosphorylation', 1), ('Furthermore', 1), ('induced', 1), ('kinase', 1), ('inhibitor', 1), ('induction', 1), ('data', 1), ('demonstrate', 1), ('modulation', 1), ('key', 1), ('mechanism', 1), ('proliferation', 1), ('relevant', 1), ('cardiovascular', 1), ('protective', 1)] \n",
      "\n",
      "[('cycle', 2), ('arrest', 2), ('mitosis', 2), ('role', 1), ('damage', 1), ('produce', 1), ('cell', 1), ('repair', 1), ('integrity', 1), ('inappropriate', 1), ('unrepaired', 1), ('Cell', 1), ('progression', 1), ('determined', 1), ('kinase', 1), ('association', 1), ('specific', 1), ('B', 1), ('suppressor', 1), ('inhibitor', 1), ('Functional', 1), ('regulation', 1), ('protein', 1), ('expression', 1), ('phosphorylation', 1)] \n",
      "\n",
      "[('centrosome', 6), ('duplication', 4), ('control', 2), ('Loss', 1), ('mutational', 1), ('inactivation', 1), ('shown', 1), ('lead', 1), ('abnormal', 1), ('amplification', 1), ('cycle', 1), ('failure', 1), ('undergo', 1), ('cytokinesis', 1), ('mouse', 1), ('presence', 1), ('excess', 1), ('frequency', 1), ('mitotic', 1), ('leading', 1), ('unbalanced', 1), ('chromosome', 1), ('transmission', 1), ('daughter', 1), ('via', 1), ('major', 1), ('effector', 1), ('likely', 1), ('guarding', 1), ('untimely', 1), ('activation', 1), ('E', 1), ('kinase', 1), ('hence', 1), ('initiation', 1), ('exert', 1), ('direct', 1), ('physical', 1), ('binding', 1)] \n",
      "\n",
      "[('cell', 5), ('inhibitor', 3), ('proliferation', 3), ('angiogenesis', 3), ('plaque', 3), ('effect', 3), ('coenzyme', 2), ('reductase', 2), ('endothelial', 2), ('induced', 2), ('cholesterol', 2), ('pyrophosphate', 2), ('progression', 2), ('growth', 2), ('related', 2), ('kinase', 2), ('membrane', 2), ('also', 2), ('inhibition', 2), ('angiogenic', 1), ('biosynthesis', 1), ('involved', 1), ('Ras', 1), ('respectively', 1), ('induce', 1), ('greater', 1), ('protection', 1), ('vascular', 1), ('risk', 1), ('reduction', 1), ('Therefore', 1), ('could', 1), ('protect', 1), ('rupture', 1), ('important', 1), ('cause', 1), ('ischemic', 1), ('study', 1), ('tested', 1), ('whereas', 1), ('unstimulated', 1), ('arrest', 1), ('G', 1), ('phase', 1), ('increase', 1), ('effects', 1), ('reversed', 1), ('suggesting', 1), ('inhibitory', 1), ('inactivation', 1), ('mechanism', 1), ('confirmed', 1), ('delocalization', 1), ('cytoplasm', 1), ('actin', 1), ('fiber', 1), ('depolymerization', 1), ('shown', 1), ('focal', 1), ('adhesion', 1), ('Moreover', 1), ('chick', 1), ('chorioallantoic', 1), ('demonstrate', 1), ('activity', 1), ('suggest', 1), ('may', 1), ('contribute', 1), ('therapeutic', 1), ('acute', 1), ('atherosclerosis', 1)] \n",
      "\n",
      "[('matrix', 6), ('protein', 6), ('secretion', 4), ('growth', 4), ('cell', 4), ('inhibition', 4), ('kinase', 2), ('vascular', 2), ('shown', 2), ('production', 2), ('presence', 2), ('absence', 2), ('Attenuation', 1), ('inhibitor', 1), ('fibrosis', 1), ('major', 1), ('heart', 1), ('kidney', 1), ('tree', 1), ('important', 1), ('role', 1), ('mediating', 1), ('chronic', 1), ('disease', 1), ('atherosclerosis', 1), ('Production', 1), ('extracellular', 1), ('many', 1), ('regulated', 1), ('factor', 1), ('essential', 1), ('component', 1), ('process', 1), ('parallel', 1), ('manner', 1), ('induced', 1), ('regulate', 1), ('transit', 1), ('cycle', 1), ('effect', 1), ('bimodal', 1), ('case', 1), ('smooth', 1), ('muscle', 1), ('laboratory', 1), ('specifically', 1), ('inhibit', 1), ('whether', 1), ('attenuation', 1), ('abolition', 1), ('Specific', 1), ('markedly', 1), ('stimulation', 1), ('Western', 1), ('blotting', 1), ('lysate', 1), ('conditioned', 1), ('medium', 1), ('addition', 1), ('though', 1), ('Due', 1), ('relative', 1), ('ease', 1), ('safety', 1), ('believe', 1), ('work', 1), ('potentially', 1), ('powerful', 1), ('technique', 1), ('synthesis', 1), ('related', 1), ('may', 1), ('lead', 1), ('new', 1), ('treatment', 1), ('well', 1), ('systemic', 1), ('aberrant', 1)] \n",
      "\n",
      "[('stent', 2), ('implantation', 2), ('canine', 2), ('portal', 2), ('Induction', 1), ('purpose', 1), ('study', 1), ('analyze', 1), ('vessel', 1), ('wall', 1), ('vein', 1), ('also', 1), ('investigate', 1), ('expression', 1), ('kinase', 1), ('inhibitor', 1), ('may', 1), ('regulate', 1), ('cellular', 1), ('proliferation', 1), ('vascular', 1), ('injury', 1), ('Uninjured', 1), ('control', 1), ('detectable', 1), ('intima', 1), ('media', 1)] \n",
      "\n",
      "[('cell', 5), ('expression', 4), ('bronchial', 4), ('asthmatic', 3), ('epithelium', 3), ('nuclear', 3), ('growth', 3), ('kinase', 2), ('inhibitor', 2), ('proliferation', 2), ('however', 2), ('asthma', 2), ('significantly', 2), ('higher', 2), ('treatment', 2), ('induced', 2), ('factor', 2), ('survival', 2), ('widespread', 1), ('damage', 1), ('associated', 1), ('cycle', 1), ('control', 1), ('major', 1), ('site', 1), ('usually', 1), ('cytoplasm', 1), ('columnar', 1), ('severe', 1), ('staining', 1), ('also', 1), ('evident', 1), ('proliferative', 1), ('basal', 1), ('compartment', 1), ('versus', 1), ('nonasthmatic', 1), ('unaffected', 1), ('antigen', 1), ('different', 1), ('group', 1), ('protein', 1), ('epithelial', 1), ('transforming', 1), ('epidermal', 1), ('synthesis', 1), ('whereas', 1), ('low', 1), ('inhibition', 1), ('induction', 1), ('become', 1), ('suggesting', 1), ('interaction', 1), ('replicative', 1), ('machinery', 1), ('predominantly', 1), ('cytoplasmic', 1), ('linked', 1), ('conclude', 1), ('may', 1), ('cause', 1), ('abnormal', 1), ('repair', 1), ('contribute', 1), ('airway', 1), ('inflammation', 1)] \n",
      "\n",
      "[('associated', 3), ('cervical', 3), ('expression', 3), ('carcinoma', 3), ('cell', 3), ('agent', 2), ('function', 2), ('human', 2), ('effect', 2), ('accumulation', 2), ('induction', 2), ('Antiviral', 1), ('radiosensitivity', 1), ('development', 1), ('express', 1), ('able', 1), ('bind', 1), ('retinoblastoma', 1), ('tumor', 1), ('suppressor', 1), ('respectively', 1), ('neutralize', 1), ('Restoration', 1), ('blocking', 1), ('would', 1), ('provide', 1), ('selective', 1), ('therapeutic', 1), ('show', 1), ('clinically', 1), ('antiviral', 1), ('reduced', 1), ('head', 1), ('neck', 1), ('squamous', 1), ('transcriptional', 1), ('level', 1), ('induced', 1), ('active', 1), ('dependent', 1), ('kinase', 1), ('inhibitor', 1), ('also', 1), ('shown', 1), ('line', 1), ('addition', 1), ('phase', 1), ('cycle', 1), ('concomitant', 1), ('decrease', 1), ('activity', 1), ('Combining', 1), ('irradiation', 1), ('nude', 1), ('mice', 1), ('marked', 1), ('virus', 1), ('negative', 1), ('study', 1), ('basis', 1), ('new', 1), ('anticancer', 1), ('strategy', 1), ('enhance', 1), ('radiation', 1), ('without', 1), ('increase', 1), ('deleterious', 1), ('effects', 1)] \n",
      "\n",
      "[('cell', 8), ('activity', 7), ('hormone', 4), ('cancer', 4), ('line', 4), ('expression', 4), ('prostatic', 3), ('effects', 2), ('androgen', 2), ('treatment', 2), ('natural', 1), ('sensitive', 1), ('cycle', 1), ('related', 1), ('studied', 1), ('grown', 1), ('optimal', 1), ('stimulatory', 1), ('determined', 1), ('assay', 1), ('measured', 1), ('repeat', 1), ('amplification', 1), ('protocol', 1), ('TRAP', 1), ('Western', 1), ('blot', 1), ('technique', 1), ('growth', 1), ('effectively', 1), ('whereas', 1), ('significant', 1), ('decrease', 1), ('viability', 1), ('combination', 1), ('low', 1), ('single', 1), ('concentration', 1), ('strongly', 1), ('slightly', 1), ('receptor', 1), ('nuclear', 1), ('antigen', 1), ('hereby', 1), ('describe', 1), ('first', 1), ('observation', 1), ('influence', 1), ('positive', 1), ('correlation', 1), ('effect', 1), ('induction', 1), ('endogenous', 1), ('kinase', 1), ('inhibitor', 1), ('shed', 1), ('new', 1), ('light', 1), ('pathway', 1), ('prostate', 1)] \n",
      "\n",
      "[('DIM', 11), ('cell', 7), ('cycle', 6), ('cancer', 6), ('human', 5), ('breast', 5), ('expression', 4), ('G', 3), ('promoter', 3), ('arrest', 2), ('increase', 2), ('blot', 2), ('induction', 2), ('response', 2), ('consensus', 2), ('binding', 2), ('responsive', 2), ('activation', 1), ('promising', 1), ('agent', 1), ('derived', 1), ('food', 1), ('determine', 1), ('whether', 1), ('natural', 1), ('indole', 1), ('direct', 1), ('growth', 1), ('inhibitory', 1), ('effect', 1), ('regulatory', 1), ('effects', 1), ('flow', 1), ('treatment', 1), ('produced', 1), ('marked', 1), ('proportion', 1), ('phase', 1), ('regardless', 1), ('status', 1), ('Analyses', 1), ('enzymatic', 1), ('activity', 1), ('kinase', 1), ('also', 1), ('strongly', 1), ('reduced', 1), ('Western', 1), ('analyses', 1), ('concurrent', 1), ('rapid', 1), ('pronounced', 1), ('inhibitor', 1), ('Northern', 1), ('analysis', 1), ('maximal', 1), ('exposure', 1), ('block', 1), ('Similar', 1), ('protein', 1), ('suggesting', 1), ('independent', 1), ('Transient', 1), ('first', 1), ('segment', 1), ('proximal', 1), ('six', 1), ('specific', 1), ('transcription', 1), ('factor', 1), ('responsiveness', 1), ('Consistent', 1), ('role', 1), ('reporter', 1), ('construct', 1), ('driven', 1), ('three', 1), ('addition', 1), ('electrophoretic', 1), ('mobility', 1), ('shift', 1), ('induced', 1), ('element', 1), ('Thus', 1), ('uncovered', 1), ('pathway', 1), ('target', 1), ('control', 1)] \n",
      "\n",
      "[('cell', 7), ('growth', 3), ('human', 3), ('epithelial', 3), ('ovarian', 3), ('cancer', 3), ('analysis', 3), ('cycle', 3), ('line', 2), ('hormone', 2), ('antagonist', 2), ('expression', 2), ('receptor', 2), ('Flow', 2), ('phase', 2), ('h', 2), ('treatment', 2), ('change', 2), ('protein', 2), ('inhibitor', 2), ('Cellular', 1), ('inhibition', 1), ('direct', 1), ('effects', 1), ('revealed', 1), ('action', 1), ('measured', 1), ('incorporation', 1), ('Western', 1), ('blot', 1), ('E', 1), ('kinase', 1), ('suppressor', 1), ('tumor', 1), ('positive', 1), ('regulator', 1), ('significantly', 1), ('terminal', 1), ('nick', 1), ('end', 1), ('staining', 1), ('induced', 1), ('conclusion', 1), ('directly', 1), ('proliferation', 1), ('multiple', 1), ('progression', 1), ('arrest', 1), ('coupled', 1), ('complex', 1), ('presumably', 1), ('attributable', 1)] \n",
      "\n",
      "[('cell', 6), ('NA', 6), ('arrest', 5), ('inhibitor', 4), ('kinase', 3), ('induced', 3), ('line', 2), ('selective', 2), ('growth', 2), ('squamous', 2), ('carcinoma', 2), ('also', 2), ('early', 2), ('suggest', 2), ('Inhibitor', 1), ('epithelial', 1), ('cancer', 1), ('via', 1), ('dependent', 1), ('enzyme', 1), ('synthesis', 1), ('Prior', 1), ('shown', 1), ('inhibition', 1), ('activity', 1), ('either', 1), ('suppression', 1), ('express', 1), ('high', 1), ('established', 1), ('tongue', 1), ('investigate', 1), ('suppressed', 1), ('effects', 1), ('distribution', 1), ('expressed', 1), ('Accumulation', 1), ('hand', 1), ('loss', 1), ('plasma', 1), ('membrane', 1), ('asymmetry', 1), ('marker', 1), ('However', 1), ('induce', 1), ('morphological', 1), ('biochemical', 1), ('related', 1), ('death', 1), ('sufficient', 1), ('complete', 1), ('whole', 1), ('process', 1), ('although', 1), ('event', 1)] \n",
      "\n",
      "[('human', 4), ('antigen', 4), ('cellular', 4), ('immortalization', 4), ('diploid', 3), ('fibroblast', 3), ('activity', 3), ('large', 2), ('immortalize', 2), ('alteration', 2), ('Immortalization', 1), ('embryonic', 1), ('simian', 1), ('virus', 1), ('viral', 1), ('known', 1), ('soaking', 1), ('frequency', 1), ('extremely', 1), ('low', 1), ('Additional', 1), ('genetic', 1), ('necessary', 1), ('find', 1), ('signal', 1), ('mediator', 1), ('frequently', 1), ('many', 1), ('cancer', 1), ('affect', 1), ('along', 1), ('could', 1), ('normal', 1), ('Several', 1), ('tested', 1), ('process', 1), ('kinase', 1), ('inhibitor', 1), ('marker', 1), ('senescence', 1), ('life', 1), ('however', 1), ('elevated', 1), ('senescent', 1), ('crisis', 1), ('Interestingly', 1), ('whenever', 1), ('also', 1), ('suggest', 1)] \n",
      "\n",
      "[('tea', 9), ('cell', 5), ('cycle', 4), ('rat', 3), ('liver', 3), ('precancerous', 3), ('expression', 3), ('study', 2), ('solution', 2), ('significantly', 2), ('induced', 2), ('Effects', 1), ('investigate', 1), ('effects', 1), ('model', 1), ('used', 1), ('given', 1), ('water', 1), ('pigment', 1), ('throughout', 1), ('whole', 1), ('experiment', 1), ('days', 1), ('protein', 1), ('Western', 1), ('blotting', 1), ('method', 1), ('applied', 1), ('CONCLUSION', 1), ('Tea', 1), ('arrest', 1), ('proliferation', 1)] \n",
      "\n",
      "[('mice', 5), ('cell', 4), ('smooth', 2), ('muscle', 2), ('drug', 2), ('clinical', 2), ('vascular', 2), ('proliferation', 2), ('derived', 2), ('number', 2), ('nuclear', 2), ('Mouse', 1), ('genetic', 1), ('evidence', 1), ('hyperplasia', 1), ('via', 1), ('acid', 1), ('shown', 1), ('reduce', 1), ('incidence', 1), ('angioplasty', 1), ('Despite', 1), ('interest', 1), ('pharmacological', 1), ('remain', 1), ('relatively', 1), ('unexplored', 1), ('molecular', 1), ('level', 1), ('effects', 1), ('kinase', 1), ('inhibitor', 1), ('potently', 1), ('unaffected', 1), ('treatment', 1), ('mouse', 1), ('femoral', 1), ('artery', 1), ('model', 1), ('injury', 1), ('administration', 1), ('led', 1), ('expression', 1), ('decrease', 1), ('determined', 1), ('antigen', 1), ('contrast', 1), ('effect', 1), ('injured', 1)] \n",
      "\n",
      "[('breast', 4), ('cancer', 4), ('angiogenesis', 3), ('growth', 2), ('assembly', 2), ('factor', 2), ('role', 2), ('function', 2), ('study', 2), ('mice', 2), ('tumor', 2), ('Suppression', 1), ('recent', 1), ('demonstrate', 1), ('act', 1), ('protein', 1), ('Thus', 1), ('logical', 1), ('exploit', 1), ('target', 1), ('pilot', 1), ('showing', 1), ('daily', 1), ('subcutaneous', 1), ('injection', 1), ('previously', 1), ('shown', 1), ('attenuate', 1), ('nude', 1), ('highly', 1), ('metastatic', 1), ('inhibition', 1), ('Inhibition', 1), ('endothelial', 1), ('capillary', 1), ('formation', 1), ('direct', 1), ('effect', 1), ('upon', 1), ('attractiveness', 1), ('novel', 1), ('approach', 1), ('therapy', 1), ('ease', 1), ('well', 1), ('develop', 1), ('spontaneous', 1), ('making', 1), ('worthy', 1)] \n",
      "\n",
      "[('prostate', 8), ('cancer', 8), ('cell', 8), ('growth', 4), ('four', 4), ('treatment', 3), ('proliferation', 3), ('arrest', 2), ('differentiation', 2), ('line', 2), ('protein', 2), ('induced', 2), ('regulated', 2), ('suppression', 1), ('previous', 1), ('study', 1), ('found', 1), ('human', 1), ('effect', 1), ('suppressed', 1), ('however', 1), ('neither', 1), ('morphological', 1), ('contrast', 1), ('MAP', 1), ('kinase', 1), ('associated', 1), ('regulation', 1), ('Moreover', 1), ('transient', 1), ('data', 1), ('suggest', 1), ('production', 1), ('directly', 1), ('regardless', 1), ('androgen', 1), ('sensitivity', 1), ('pathway', 1), ('thus', 1), ('conclude', 1), ('good', 1), ('candidate', 1), ('use', 1), ('several', 1)] \n",
      "\n"
     ]
    },
    {
     "ename": "KeyError",
     "evalue": "'AB'",
     "output_type": "error",
     "traceback": [
      "\u001b[0;31m---------------------------------------------------------------------------\u001b[0m",
      "\u001b[0;31mKeyError\u001b[0m                                  Traceback (most recent call last)",
      "Input \u001b[0;32mIn [39]\u001b[0m, in \u001b[0;36m<cell line: 7>\u001b[0;34m()\u001b[0m\n\u001b[1;32m      2\u001b[0m es \u001b[38;5;241m=\u001b[39m elasticsearch\u001b[38;5;241m.\u001b[39mElasticsearch(\u001b[38;5;124m'\u001b[39m\u001b[38;5;124mlocalhost\u001b[39m\u001b[38;5;124m'\u001b[39m)\n\u001b[1;32m      4\u001b[0m \u001b[38;5;66;03m# Write the results of the queries contained in the topic file `'data/training-queries-simple.txt'` \u001b[39;00m\n\u001b[1;32m      5\u001b[0m \u001b[38;5;66;03m# to the run file `'baseline.run'`, and name this test as `test01`\u001b[39;00m\n\u001b[1;32m      6\u001b[0m \u001b[38;5;66;03m# make_trec_run(es, 'data01/FIR-s05-training-queries-simple.txt', 'baseline.run', \"genomics-base\", run_name='no_pseudo_01')\u001b[39;00m\n\u001b[0;32m----> 7\u001b[0m \u001b[43mmake_trec_run\u001b[49m\u001b[43m(\u001b[49m\u001b[43mes\u001b[49m\u001b[43m,\u001b[49m\u001b[43m \u001b[49m\u001b[38;5;124;43m'\u001b[39;49m\u001b[38;5;124;43mdata01/FIR-s05-training-queries-simple.txt\u001b[39;49m\u001b[38;5;124;43m'\u001b[39;49m\u001b[43m,\u001b[49m\u001b[43m \u001b[49m\u001b[38;5;124;43m'\u001b[39;49m\u001b[38;5;124;43mbaseline.run\u001b[39;49m\u001b[38;5;124;43m'\u001b[39;49m\u001b[43m,\u001b[49m\u001b[43m \u001b[49m\u001b[38;5;124;43m\"\u001b[39;49m\u001b[38;5;124;43mgenomics-base\u001b[39;49m\u001b[38;5;124;43m\"\u001b[39;49m\u001b[43m,\u001b[49m\u001b[43m \u001b[49m\u001b[43mrun_name\u001b[49m\u001b[38;5;241;43m=\u001b[39;49m\u001b[38;5;124;43m'\u001b[39;49m\u001b[38;5;124;43mpseudo_01\u001b[39;49m\u001b[38;5;124;43m'\u001b[39;49m\u001b[43m,\u001b[49m\u001b[43m \u001b[49m\u001b[43mpseudo_relevance\u001b[49m\u001b[38;5;241;43m=\u001b[39;49m\u001b[38;5;28;43;01mTrue\u001b[39;49;00m\u001b[43m)\u001b[49m\n\u001b[1;32m      9\u001b[0m \u001b[38;5;28mprint\u001b[39m(\u001b[38;5;124m\"\u001b[39m\u001b[38;5;124mdone\u001b[39m\u001b[38;5;124m\"\u001b[39m)\n",
      "File \u001b[0;32m~/Desktop/Project/FoundationsOfInformationRetrievalProject/trec_files.py:49\u001b[0m, in \u001b[0;36mmake_trec_run\u001b[0;34m(es, topics_file_name, run_file_name, index_name, run_name, pseudo_relevance)\u001b[0m\n\u001b[1;32m     47\u001b[0m \u001b[38;5;66;03m# Call the pseudo relevance method\u001b[39;00m\n\u001b[1;32m     48\u001b[0m \u001b[38;5;28;01mif\u001b[39;00m pseudo_relevance:\n\u001b[0;32m---> 49\u001b[0m     response \u001b[38;5;241m=\u001b[39m \u001b[43mpseudo_rel\u001b[49m\u001b[43m(\u001b[49m\u001b[43mquery\u001b[49m\u001b[43m,\u001b[49m\u001b[43m \u001b[49m\u001b[43mresponse\u001b[49m\u001b[43m,\u001b[49m\u001b[43m \u001b[49m\u001b[43mq_index\u001b[49m\u001b[43m)\u001b[49m\n\u001b[1;32m     50\u001b[0m     q_index\u001b[38;5;241m+\u001b[39m\u001b[38;5;241m=\u001b[39m\u001b[38;5;241m1\u001b[39m\n\u001b[1;32m     53\u001b[0m \u001b[38;5;28;01mfor\u001b[39;00m i, hit \u001b[38;5;129;01min\u001b[39;00m \u001b[38;5;28menumerate\u001b[39m(response[\u001b[38;5;124m'\u001b[39m\u001b[38;5;124mhits\u001b[39m\u001b[38;5;124m'\u001b[39m][\u001b[38;5;124m'\u001b[39m\u001b[38;5;124mhits\u001b[39m\u001b[38;5;124m'\u001b[39m]):\n",
      "File \u001b[0;32m~/Desktop/Project/FoundationsOfInformationRetrievalProject/pseudo_relevance.py:33\u001b[0m, in \u001b[0;36mpseudo_rel\u001b[0;34m(query, retrieved_docs, q_index)\u001b[0m\n\u001b[1;32m     29\u001b[0m         \u001b[38;5;28mprint\u001b[39m(query, \u001b[38;5;124m\"\u001b[39m\u001b[38;5;130;01m\\n\u001b[39;00m\u001b[38;5;130;01m\\n\u001b[39;00m\u001b[38;5;124m\"\u001b[39m)\n\u001b[1;32m     31\u001b[0m         \u001b[38;5;28;01mfor\u001b[39;00m doc \u001b[38;5;129;01min\u001b[39;00m retrieved_docs:\n\u001b[1;32m     32\u001b[0m             \u001b[38;5;66;03m# Use the Title ('TI') and the Abstract ('AB') to search for words\u001b[39;00m\n\u001b[0;32m---> 33\u001b[0m             text \u001b[38;5;241m=\u001b[39m doc[\u001b[38;5;124m'\u001b[39m\u001b[38;5;124mTI\u001b[39m\u001b[38;5;124m'\u001b[39m] \u001b[38;5;241m+\u001b[39m \u001b[43mdoc\u001b[49m\u001b[43m[\u001b[49m\u001b[38;5;124;43m'\u001b[39;49m\u001b[38;5;124;43mAB\u001b[39;49m\u001b[38;5;124;43m'\u001b[39;49m\u001b[43m]\u001b[49m\n\u001b[1;32m     35\u001b[0m \u001b[38;5;66;03m#             print(text, \"\\n\\n\")\u001b[39;00m\n\u001b[1;32m     36\u001b[0m \n\u001b[1;32m     37\u001b[0m             \u001b[38;5;66;03m# Return the tokenized text\u001b[39;00m\n\u001b[1;32m     38\u001b[0m             text_terms \u001b[38;5;241m=\u001b[39m preprocess_text(text)\n",
      "File \u001b[0;32m~/.local/lib/python3.8/site-packages/elasticsearch_dsl/utils.py:178\u001b[0m, in \u001b[0;36mAttrDict.__getitem__\u001b[0;34m(self, key)\u001b[0m\n\u001b[1;32m    177\u001b[0m \u001b[38;5;28;01mdef\u001b[39;00m \u001b[38;5;21m__getitem__\u001b[39m(\u001b[38;5;28mself\u001b[39m, key):\n\u001b[0;32m--> 178\u001b[0m     \u001b[38;5;28;01mreturn\u001b[39;00m _wrap(\u001b[38;5;28;43mself\u001b[39;49m\u001b[38;5;241;43m.\u001b[39;49m\u001b[43m_d_\u001b[49m\u001b[43m[\u001b[49m\u001b[43mkey\u001b[49m\u001b[43m]\u001b[49m)\n",
      "\u001b[0;31mKeyError\u001b[0m: 'AB'"
     ]
    }
   ],
   "source": [
    "# connect to ES server             \n",
    "es = elasticsearch.Elasticsearch('localhost')\n",
    "\n",
    "# Write the results of the queries contained in the topic file `'data/training-queries-simple.txt'` \n",
    "# to the run file `'baseline.run'`, and name this test as `test01`\n",
    "# make_trec_run(es, 'data01/FIR-s05-training-queries-simple.txt', 'baseline.run', \"genomics-base\", run_name='no_pseudo_01')\n",
    "make_trec_run(es, 'data01/FIR-s05-training-queries-simple.txt', 'baseline.run', \"genomics-base\", run_name='pseudo_01', pseudo_relevance=True)\n",
    "\n",
    "print(\"done\")"
   ]
  },
  {
   "cell_type": "code",
   "execution_count": 14,
   "metadata": {},
   "outputs": [
    {
     "name": "stdout",
     "output_type": "stream",
     "text": [
      "Results for baseline.run\n",
      "mean success_at_1              0.1053\n",
      "mean success_at_5              0.2632\n",
      "mean success_at_10             0.3158\n",
      "mean r_precision               0.09156\n",
      "mean precision_at_1            0.1053\n",
      "mean precision_at_5            0.07895\n",
      "mean precision_at_10           0.04737\n",
      "mean precision_at_50           0.01947\n",
      "mean precision_at_100          0.01395\n",
      "mean precision_at_recall_00    0.2015\n",
      "mean precision_at_recall_01    0.1898\n",
      "mean precision_at_recall_02    0.1683\n",
      "mean precision_at_recall_03    0.1333\n",
      "mean precision_at_recall_04    0.1236\n",
      "mean precision_at_recall_05    0.1227\n",
      "mean precision_at_recall_06    0.08744\n",
      "mean precision_at_recall_07    0.08435\n",
      "mean precision_at_recall_08    0.05999\n",
      "mean precision_at_recall_09    0.05803\n",
      "mean precision_at_recall_10    0.05803\n",
      "mean average_precision         0.1116\n"
     ]
    }
   ],
   "source": [
    "print_trec_eval('data01/FIR-s05-training-qrels.txt', 'baseline.run')"
   ]
  },
  {
   "cell_type": "markdown",
   "metadata": {},
   "source": [
    "# Pseudo-Feedback Relevance"
   ]
  },
  {
   "cell_type": "code",
   "execution_count": null,
   "metadata": {},
   "outputs": [],
   "source": [
    "initial_results = es.search(index='your_index_name', body=initial_query, size=10)\n",
    "\n",
    "# Extract the initial retrieved documents' content\n",
    "docs_content = [hit['_source']['field_to_extract'] for hit in initial_results['hits']['hits']]\n",
    "\n",
    "# Combine the initial query with terms from the top retrieved documents\n",
    "feedback_terms = []\n",
    "for doc_content in docs_content:\n",
    "    doc_tokens = word_tokenize(doc_content)\n",
    "    doc_tokens = [porter.stem(token) for token in doc_tokens if token.isalpha() and token not in stop_words]\n",
    "    feedback_terms.extend(doc_tokens)\n",
    "\n",
    "# Calculate term frequencies for the feedback terms\n",
    "feedback_term_freq = {}\n",
    "for term in feedback_terms:\n",
    "    if term in feedback_term_freq:\n",
    "        feedback_term_freq[term] += 1\n",
    "    else:\n",
    "        feedback_term_freq[term] = 1\n",
    "\n",
    "# Sort the feedback terms by their frequency\n",
    "sorted_feedback_terms = sorted(feedback_term_freq.items(), key=lambda x: x[1], reverse=True)\n",
    "\n",
    "# Choose the top feedback terms to expand the query\n",
    "num_feedback_terms = 5\n",
    "expanded_query = {\n",
    "    \"query\": {\n",
    "        \"match\": {\n",
    "            \"field_to_search\": {\n",
    "                \"query\": preprocess_text(\"your initial query\"),\n",
    "                \"operator\": \"or\"\n",
    "            }\n",
    "        }\n",
    "    }\n",
    "}\n",
    "\n",
    "for term, _ in sorted_feedback_terms[:num_feedback_terms]:\n",
    "    expanded_query[\"query\"][\"match\"][\"field_to_search\"][\"query\"] += f\" {term}\"\n",
    "\n",
    "# Perform a new search with the expanded query\n",
    "new_results = es.search(index='your_index_name', body=expanded_query, size=10)\n",
    "\n",
    "# You can now work with the new search results in 'new_results'\n"
   ]
  },
  {
   "cell_type": "markdown",
   "metadata": {},
   "source": [
    "## Evaluate"
   ]
  },
  {
   "cell_type": "code",
   "execution_count": null,
   "metadata": {},
   "outputs": [],
   "source": [
    "qrels_file = \"data01/trec.qrels\"\n",
    "run_file = \"data01/baseline.run\"\n",
    "\n",
    "# Read the relevant documents and retrieved documents\n",
    "all_relevant, all_retrieved = read_eval_files(qrels_file, run_file)\n",
    "\n",
    "# Evaluate the performance\n",
    "map_score = mean_average_precision(all_relevant, all_retrieved)\n",
    "print(f\"Mean Average Precision (MAP): {map_score}\")\n"
   ]
  }
 ],
 "metadata": {
  "kernelspec": {
   "display_name": "Python 3 (ipykernel)",
   "language": "python",
   "name": "python3"
  },
  "language_info": {
   "codemirror_mode": {
    "name": "ipython",
    "version": 3
   },
   "file_extension": ".py",
   "mimetype": "text/x-python",
   "name": "python",
   "nbconvert_exporter": "python",
   "pygments_lexer": "ipython3",
   "version": "3.8.10"
  }
 },
 "nbformat": 4,
 "nbformat_minor": 2
}
